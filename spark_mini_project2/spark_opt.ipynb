{
 "cells": [
  {
   "cell_type": "code",
   "execution_count": 1,
   "metadata": {
    "ExecuteTime": {
     "end_time": "2022-01-15T06:13:01.459476Z",
     "start_time": "2022-01-15T06:13:01.448859Z"
    }
   },
   "outputs": [
    {
     "data": {
      "text/html": [
       "\n",
       "        <div>\n",
       "            <p><b>SparkContext</b></p>\n",
       "\n",
       "            <p><a href=\"http://192.168.0.10:4041\">Spark UI</a></p>\n",
       "\n",
       "            <dl>\n",
       "              <dt>Version</dt>\n",
       "                <dd><code>v3.1.1</code></dd>\n",
       "              <dt>Master</dt>\n",
       "                <dd><code>local[*]</code></dd>\n",
       "              <dt>AppName</dt>\n",
       "                <dd><code>PySparkShell</code></dd>\n",
       "            </dl>\n",
       "        </div>\n",
       "        "
      ],
      "text/plain": [
       "<SparkContext master=local[*] appName=PySparkShell>"
      ]
     },
     "execution_count": 1,
     "metadata": {},
     "output_type": "execute_result"
    }
   ],
   "source": [
    "sc"
   ]
  },
  {
   "cell_type": "code",
   "execution_count": 2,
   "metadata": {
    "ExecuteTime": {
     "end_time": "2022-01-15T06:13:04.258738Z",
     "start_time": "2022-01-15T06:13:01.461463Z"
    }
   },
   "outputs": [],
   "source": [
    "'''\n",
    "Optimize the query plan\n",
    "\n",
    "Suppose we want to compose query in which we get for each question also the number of answers to this question for each month. See the query below which does that in a suboptimal way and try to rewrite it to achieve a more optimal plan.\n",
    "'''\n",
    "\n",
    "\n",
    "import pyspark\n",
    "from pyspark.sql import SparkSession\n",
    "from pyspark.sql.functions import col, count, month\n",
    "\n",
    "import os\n",
    "\n",
    "\n",
    "spark = SparkSession.builder.appName('Optimize I').getOrCreate()\n",
    "\n",
    "sc.setSystemProperty(\"spark.serializer\", \"org.apache.spark.serializer.KryoSerializer\")\n",
    "\n",
    "spark.conf.set(\"spark.sql.adaptive.enabled\",True)\n",
    "\n",
    "base_path = \"/Users/christopher/Downloads/Optimization/\"\n",
    "\n",
    "# project_path = ('/').join(base_path.split('/')[0:-3]) \n",
    "\n",
    "answers_input_path = os.path.join(base_path, 'data/answers')\n",
    "\n",
    "questions_input_path = os.path.join(base_path, 'data/questions')\n",
    "\n",
    "answersDF = spark.read.option('path', answers_input_path).load()\n",
    "\n",
    "questionsDF = spark.read.option('path', questions_input_path).load()\n",
    "\n"
   ]
  },
  {
   "cell_type": "code",
   "execution_count": 3,
   "metadata": {
    "ExecuteTime": {
     "end_time": "2022-01-15T06:13:04.291763Z",
     "start_time": "2022-01-15T06:13:04.261844Z"
    }
   },
   "outputs": [
    {
     "name": "stdout",
     "output_type": "stream",
     "text": [
      "root\n",
      " |-- question_id: long (nullable = true)\n",
      " |-- answer_id: long (nullable = true)\n",
      " |-- creation_date: timestamp (nullable = true)\n",
      " |-- comments: long (nullable = true)\n",
      " |-- user_id: long (nullable = true)\n",
      " |-- score: long (nullable = true)\n",
      "\n"
     ]
    }
   ],
   "source": [
    "answersDF.printSchema()"
   ]
  },
  {
   "cell_type": "code",
   "execution_count": 4,
   "metadata": {
    "ExecuteTime": {
     "end_time": "2022-01-15T06:13:05.785696Z",
     "start_time": "2022-01-15T06:13:04.295126Z"
    }
   },
   "outputs": [
    {
     "data": {
      "text/plain": [
       "(110714, 6, 4)"
      ]
     },
     "execution_count": 4,
     "metadata": {},
     "output_type": "execute_result"
    }
   ],
   "source": [
    "answersDF.count(),len(answersDF.columns), answersDF.rdd.getNumPartitions()"
   ]
  },
  {
   "cell_type": "code",
   "execution_count": 5,
   "metadata": {
    "ExecuteTime": {
     "end_time": "2022-01-15T06:13:06.006526Z",
     "start_time": "2022-01-15T06:13:05.788150Z"
    }
   },
   "outputs": [
    {
     "data": {
      "text/plain": [
       "(86936, 8, 4)"
      ]
     },
     "execution_count": 5,
     "metadata": {},
     "output_type": "execute_result"
    }
   ],
   "source": [
    "questionsDF.count(),len(questionsDF.columns), questionsDF.rdd.getNumPartitions()"
   ]
  },
  {
   "cell_type": "code",
   "execution_count": 6,
   "metadata": {
    "ExecuteTime": {
     "end_time": "2022-01-15T06:13:06.012862Z",
     "start_time": "2022-01-15T06:13:06.008389Z"
    }
   },
   "outputs": [
    {
     "name": "stdout",
     "output_type": "stream",
     "text": [
      "root\n",
      " |-- question_id: long (nullable = true)\n",
      " |-- tags: array (nullable = true)\n",
      " |    |-- element: string (containsNull = true)\n",
      " |-- creation_date: timestamp (nullable = true)\n",
      " |-- title: string (nullable = true)\n",
      " |-- accepted_answer_id: long (nullable = true)\n",
      " |-- comments: long (nullable = true)\n",
      " |-- user_id: long (nullable = true)\n",
      " |-- views: long (nullable = true)\n",
      "\n"
     ]
    }
   ],
   "source": [
    "questionsDF.printSchema()"
   ]
  },
  {
   "cell_type": "code",
   "execution_count": 7,
   "metadata": {
    "ExecuteTime": {
     "end_time": "2022-01-15T06:13:06.549568Z",
     "start_time": "2022-01-15T06:13:06.015171Z"
    }
   },
   "outputs": [
    {
     "name": "stdout",
     "output_type": "stream",
     "text": [
      "+-----------+---------+--------------------+--------+-------+-----+\n",
      "|question_id|answer_id|       creation_date|comments|user_id|score|\n",
      "+-----------+---------+--------------------+--------+-------+-----+\n",
      "|     226592|   226595|2015-12-29 15:46:...|       3|  82798|    2|\n",
      "|     388057|   388062|2018-02-22 10:52:...|       8|    520|   21|\n",
      "|     293286|   293305|2016-11-17 13:35:...|       0|  47472|    2|\n",
      "|     442499|   442503|2018-11-21 22:34:...|       0| 137289|    0|\n",
      "|     293009|   293031|2016-11-16 05:36:...|       0|  83721|    0|\n",
      "+-----------+---------+--------------------+--------+-------+-----+\n",
      "only showing top 5 rows\n",
      "\n"
     ]
    }
   ],
   "source": [
    "answersDF.show(5)"
   ]
  },
  {
   "cell_type": "code",
   "execution_count": 8,
   "metadata": {
    "ExecuteTime": {
     "end_time": "2022-01-15T06:13:06.852470Z",
     "start_time": "2022-01-15T06:13:06.554724Z"
    }
   },
   "outputs": [
    {
     "name": "stdout",
     "output_type": "stream",
     "text": [
      "+-----------+--------------------+--------------------+--------------------+------------------+--------+-------+-----+\n",
      "|question_id|                tags|       creation_date|               title|accepted_answer_id|comments|user_id|views|\n",
      "+-----------+--------------------+--------------------+--------------------+------------------+--------+-------+-----+\n",
      "|     382738|[optics, waves, f...|2018-01-27 23:22:...|What is the pseud...|            382772|       0|  76347|   32|\n",
      "|     370717|[field-theory, de...|2017-11-25 01:09:...|What is the defin...|              null|       1|  75085|   82|\n",
      "|     339944|[general-relativi...|2017-06-17 13:32:...|Could gravitation...|              null|      13| 116137|  333|\n",
      "|     233852|[homework-and-exe...|2016-02-04 13:19:...|When does travell...|              null|       9|  95831|  185|\n",
      "|     294165|[quantum-mechanic...|2016-11-22 03:39:...|Time-dependent qu...|              null|       1| 118807|   56|\n",
      "+-----------+--------------------+--------------------+--------------------+------------------+--------+-------+-----+\n",
      "only showing top 5 rows\n",
      "\n"
     ]
    }
   ],
   "source": [
    "questionsDF.show(5)"
   ]
  },
  {
   "cell_type": "markdown",
   "metadata": {},
   "source": [
    "### Issues\n",
    "After aggregation partition size increased to 200 (default value) --> fixed by turning on spark.sql.adaptive.enabled, reduced down to 9 partitions.\n",
    "Adaptive Query Execution: helps with heavily skewed data, expensive joins, large partitions.\n",
    "Currently using *broadcast hash join*, best join in terms of performance.\n",
    "\n",
    "Other methods for optimization...\n",
    "remove unessessary columns( drop title, creation_date), need more context (business use case)?\n"
   ]
  },
  {
   "cell_type": "code",
   "execution_count": 9,
   "metadata": {
    "ExecuteTime": {
     "end_time": "2022-01-15T06:13:08.712923Z",
     "start_time": "2022-01-15T06:13:06.854583Z"
    }
   },
   "outputs": [
    {
     "name": "stdout",
     "output_type": "stream",
     "text": [
      "+-----------+--------------------+--------------------+-----+---+\n",
      "|question_id|       creation_date|               title|month|cnt|\n",
      "+-----------+--------------------+--------------------+-----+---+\n",
      "|     155989|2014-12-31 17:59:...|Frost bubble form...|    2|  1|\n",
      "|     155989|2014-12-31 17:59:...|Frost bubble form...|   12|  1|\n",
      "|     155990|2014-12-31 18:51:...|The abstract spac...|    1|  1|\n",
      "|     155990|2014-12-31 18:51:...|The abstract spac...|   12|  1|\n",
      "|     155992|2014-12-31 19:44:...|centrifugal force...|   12|  1|\n",
      "|     155993|2014-12-31 19:56:...|How can I estimat...|    1|  1|\n",
      "|     155995|2014-12-31 21:16:...|Why should a solu...|    1|  3|\n",
      "|     155996|2014-12-31 22:06:...|Why do we assume ...|    1|  2|\n",
      "|     155996|2014-12-31 22:06:...|Why do we assume ...|    2|  1|\n",
      "|     155996|2014-12-31 22:06:...|Why do we assume ...|   11|  1|\n",
      "|     155997|2014-12-31 22:26:...|Why do square sha...|    1|  3|\n",
      "|     155999|2014-12-31 23:01:...|Diagonalizability...|    1|  1|\n",
      "|     156008|2015-01-01 00:48:...|Capturing a light...|    1|  2|\n",
      "|     156008|2015-01-01 00:48:...|Capturing a light...|   11|  1|\n",
      "|     156016|2015-01-01 02:31:...|The interference ...|    1|  1|\n",
      "|     156020|2015-01-01 03:19:...|What is going on ...|    1|  1|\n",
      "|     156021|2015-01-01 03:21:...|How to calculate ...|    2|  1|\n",
      "|     156022|2015-01-01 03:55:...|Advice on Major S...|    1|  1|\n",
      "|     156025|2015-01-01 04:32:...|Deriving the Cano...|    1|  1|\n",
      "|     156026|2015-01-01 04:49:...|Does Bell's inequ...|    1|  3|\n",
      "+-----------+--------------------+--------------------+-----+---+\n",
      "only showing top 20 rows\n",
      "\n"
     ]
    },
    {
     "data": {
      "text/plain": [
       "'\\nTask:\\n\\nsee the query plan of the previous result and rewrite the query to optimize it\\n'"
      ]
     },
     "execution_count": 9,
     "metadata": {},
     "output_type": "execute_result"
    }
   ],
   "source": [
    "'''\n",
    "Answers aggregation\n",
    "\n",
    "Here we : get number of answers per question per month\n",
    "'''\n",
    "\n",
    "answers_month = answersDF.withColumn('month', month('creation_date')).groupBy('question_id', 'month').agg(count('*').alias('cnt'))\n",
    "\n",
    "resultDF = questionsDF.join(answers_month, 'question_id').select('question_id', 'creation_date', 'title', 'month', 'cnt')\n",
    "\n",
    "resultDF.orderBy('question_id', 'month').show()\n",
    "\n",
    "'''\n",
    "Task:\n",
    "\n",
    "see the query plan of the previous result and rewrite the query to optimize it\n",
    "'''"
   ]
  },
  {
   "cell_type": "code",
   "execution_count": 10,
   "metadata": {
    "ExecuteTime": {
     "end_time": "2022-01-15T06:13:08.738023Z",
     "start_time": "2022-01-15T06:13:08.715504Z"
    }
   },
   "outputs": [
    {
     "name": "stdout",
     "output_type": "stream",
     "text": [
      "org.apache.spark.serializer.KryoSerializer\n"
     ]
    }
   ],
   "source": [
    "print(sc.getConf().get(\"spark.serializer\"))"
   ]
  }
 ],
 "metadata": {
  "kernelspec": {
   "display_name": "Python 3",
   "language": "python",
   "name": "python3"
  },
  "language_info": {
   "codemirror_mode": {
    "name": "ipython",
    "version": 3
   },
   "file_extension": ".py",
   "mimetype": "text/x-python",
   "name": "python",
   "nbconvert_exporter": "python",
   "pygments_lexer": "ipython3",
   "version": "3.7.4"
  }
 },
 "nbformat": 4,
 "nbformat_minor": 4
}
